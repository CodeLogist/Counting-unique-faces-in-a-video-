{
 "cells": [
  {
   "cell_type": "code",
   "execution_count": null,
   "metadata": {},
   "outputs": [],
   "source": [
    "import cv2\n",
    "face_cascade = cv2.CascadeClassifier('/home/spartan/Desktop/opencv-master/data/haarcascades/haarcascade_frontalface_default.xml')\n",
    "\n",
    "from skimage.measure import compare_ssim,compare_mse"
   ]
  },
  {
   "cell_type": "code",
   "execution_count": null,
   "metadata": {},
   "outputs": [],
   "source": [
    "#used mse to compare two images but there are also many other options available at http://scikit-image.org/docs/dev/api/skimage.measure.html\n",
    "import math\n",
    "\n",
    "videoFile = \"faces.mp4\"\n",
    "vidcap = cv2.VideoCapture(videoFile)\n",
    "success,image = vidcap.read()\n",
    "previousframe=None\n",
    "\n",
    "\n",
    "\n",
    "seconds = 1\n",
    "fps = vidcap.get(cv2.CAP_PROP_FPS) \n",
    "print(fps)\n",
    "multiplier = round(fps * seconds)\n",
    "print(multiplier)\n",
    "faces = face_cascade.detectMultiScale(image, 1.3, 5)\n",
    "count=len(faces)\n",
    "while success:\n",
    "    if(previousframe is None):\n",
    "        previousframe=image\n",
    "    frameId = int(round(vidcap.get(1))) \n",
    "    success,image = vidcap.read()\n",
    "    \n",
    "    if frameId % multiplier == 0:\n",
    "        score=compare_mse(image,previousframe)\n",
    "        if(score>4000):\n",
    "            faces=face_cascade.detectMultiScale(image, 1.3, 5)\n",
    "            print (len(faces))\n",
    "            print(frameId)\n",
    "            count=count+len(faces)\n",
    "        previousframe=image    \n",
    "        cv2.putText(image,('%d unique faces found till now' % count),(250,300), cv2.FONT_HERSHEY_SIMPLEX,1, (200,255,155), 2)\n",
    "        \n",
    "        cv2.imshow('ip',image)\n",
    "        cv2.waitKey(30)\n",
    "        cv2.imwrite(\"/home/spartan/nn/frame%d.jpg\" % frameId, image)\n",
    "\n",
    "vidcap.release()\n",
    "print (\"Complete\")"
   ]
  },
  {
   "cell_type": "code",
   "execution_count": null,
   "metadata": {},
   "outputs": [],
   "source": []
  }
 ],
 "metadata": {
  "kernelspec": {
   "display_name": "Python 3",
   "language": "python",
   "name": "python3"
  },
  "language_info": {
   "codemirror_mode": {
    "name": "ipython",
    "version": 3
   },
   "file_extension": ".py",
   "mimetype": "text/x-python",
   "name": "python",
   "nbconvert_exporter": "python",
   "pygments_lexer": "ipython3",
   "version": "3.6.3"
  }
 },
 "nbformat": 4,
 "nbformat_minor": 2
}
